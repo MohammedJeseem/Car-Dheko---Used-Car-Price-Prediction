{
 "cells": [
  {
   "cell_type": "markdown",
   "metadata": {},
   "source": [
    "# Model Creation"
   ]
  },
  {
   "cell_type": "code",
   "execution_count": 43,
   "metadata": {},
   "outputs": [],
   "source": [
    "import pandas as pd\n",
    "import numpy as np\n",
    "import matplotlib.pyplot as plt\n",
    "import seaborn as sns\n",
    "import plotly.express as px\n",
    "import warnings\n",
    "from six.moves import urllib\n",
    "\n",
    "warnings.filterwarnings(\"ignore\")\n",
    "\n",
    "%matplotlib inline"
   ]
  },
  {
   "cell_type": "code",
   "execution_count": 44,
   "metadata": {},
   "outputs": [
    {
     "data": {
      "text/plain": [
       "City                 object\n",
       "FuelType             object\n",
       "BodyType             object\n",
       "KmsDriven           float64\n",
       "TransmissionType     object\n",
       "NumberOwner           int64\n",
       "Insurance            object\n",
       "Manufacturer         object\n",
       "CarModel             object\n",
       "ModelYear             int64\n",
       "VariantName          object\n",
       "Mileage             float64\n",
       "Engine                int64\n",
       "Price               float64\n",
       "No of Cylinder        int64\n",
       "Seats                 int64\n",
       "AgeOfCar            float64\n",
       "dtype: object"
      ]
     },
     "execution_count": 44,
     "metadata": {},
     "output_type": "execute_result"
    }
   ],
   "source": [
    "df_filtered = pd.read_csv('data\\\\df_filtered.csv')\n",
    "\n",
    "df_filtered.head()\n",
    "\n",
    "df_filtered.dtypes"
   ]
  },
  {
   "cell_type": "markdown",
   "metadata": {},
   "source": [
    "## Removing unnecessary features\n",
    "\n",
    "**Dropping `CarModel` ,`VariantName\t` ,`Manufacturer` and `Mileage_log`**\n",
    "\n",
    "These features  are not directly correlated with the price of car and they can actually introduce noise into the model. For example, two cars with the same features but different brands may have different prices. This is because brand reputation and perceived quality can play a role in determining the price of a car. By dropping the `CarModel` , `VariantName` ,`Manufacturer` and `Mileage_log`, we can create a model that is more accurate and reliable."
   ]
  },
  {
   "cell_type": "code",
   "execution_count": 45,
   "metadata": {},
   "outputs": [
    {
     "data": {
      "text/html": [
       "<div>\n",
       "<style scoped>\n",
       "    .dataframe tbody tr th:only-of-type {\n",
       "        vertical-align: middle;\n",
       "    }\n",
       "\n",
       "    .dataframe tbody tr th {\n",
       "        vertical-align: top;\n",
       "    }\n",
       "\n",
       "    .dataframe thead th {\n",
       "        text-align: right;\n",
       "    }\n",
       "</style>\n",
       "<table border=\"1\" class=\"dataframe\">\n",
       "  <thead>\n",
       "    <tr style=\"text-align: right;\">\n",
       "      <th></th>\n",
       "      <th>TransmissionType</th>\n",
       "      <th>Mileage</th>\n",
       "      <th>Engine</th>\n",
       "      <th>Price</th>\n",
       "      <th>AgeOfCar</th>\n",
       "    </tr>\n",
       "  </thead>\n",
       "  <tbody>\n",
       "    <tr>\n",
       "      <th>0</th>\n",
       "      <td>Manual</td>\n",
       "      <td>23.0</td>\n",
       "      <td>998</td>\n",
       "      <td>400000.0</td>\n",
       "      <td>9.0</td>\n",
       "    </tr>\n",
       "    <tr>\n",
       "      <th>1</th>\n",
       "      <td>Manual</td>\n",
       "      <td>17.0</td>\n",
       "      <td>1497</td>\n",
       "      <td>811000.0</td>\n",
       "      <td>6.0</td>\n",
       "    </tr>\n",
       "    <tr>\n",
       "      <th>2</th>\n",
       "      <td>Manual</td>\n",
       "      <td>23.0</td>\n",
       "      <td>1199</td>\n",
       "      <td>585000.0</td>\n",
       "      <td>6.0</td>\n",
       "    </tr>\n",
       "    <tr>\n",
       "      <th>3</th>\n",
       "      <td>Manual</td>\n",
       "      <td>19.0</td>\n",
       "      <td>1197</td>\n",
       "      <td>462000.0</td>\n",
       "      <td>10.0</td>\n",
       "    </tr>\n",
       "    <tr>\n",
       "      <th>4</th>\n",
       "      <td>Manual</td>\n",
       "      <td>23.0</td>\n",
       "      <td>1248</td>\n",
       "      <td>790000.0</td>\n",
       "      <td>9.0</td>\n",
       "    </tr>\n",
       "    <tr>\n",
       "      <th>...</th>\n",
       "      <td>...</td>\n",
       "      <td>...</td>\n",
       "      <td>...</td>\n",
       "      <td>...</td>\n",
       "      <td>...</td>\n",
       "    </tr>\n",
       "    <tr>\n",
       "      <th>7961</th>\n",
       "      <td>Automatic</td>\n",
       "      <td>22.0</td>\n",
       "      <td>1197</td>\n",
       "      <td>620000.0</td>\n",
       "      <td>6.0</td>\n",
       "    </tr>\n",
       "    <tr>\n",
       "      <th>7962</th>\n",
       "      <td>Manual</td>\n",
       "      <td>19.0</td>\n",
       "      <td>1461</td>\n",
       "      <td>890000.0</td>\n",
       "      <td>6.0</td>\n",
       "    </tr>\n",
       "    <tr>\n",
       "      <th>7963</th>\n",
       "      <td>Automatic</td>\n",
       "      <td>17.0</td>\n",
       "      <td>1198</td>\n",
       "      <td>801000.0</td>\n",
       "      <td>6.0</td>\n",
       "    </tr>\n",
       "    <tr>\n",
       "      <th>7964</th>\n",
       "      <td>Automatic</td>\n",
       "      <td>16.0</td>\n",
       "      <td>1968</td>\n",
       "      <td>1657500.0</td>\n",
       "      <td>7.0</td>\n",
       "    </tr>\n",
       "    <tr>\n",
       "      <th>7965</th>\n",
       "      <td>Automatic</td>\n",
       "      <td>21.0</td>\n",
       "      <td>1995</td>\n",
       "      <td>1657500.0</td>\n",
       "      <td>5.0</td>\n",
       "    </tr>\n",
       "  </tbody>\n",
       "</table>\n",
       "<p>7966 rows × 5 columns</p>\n",
       "</div>"
      ],
      "text/plain": [
       "     TransmissionType  Mileage  Engine      Price  AgeOfCar\n",
       "0              Manual     23.0     998   400000.0       9.0\n",
       "1              Manual     17.0    1497   811000.0       6.0\n",
       "2              Manual     23.0    1199   585000.0       6.0\n",
       "3              Manual     19.0    1197   462000.0      10.0\n",
       "4              Manual     23.0    1248   790000.0       9.0\n",
       "...               ...      ...     ...        ...       ...\n",
       "7961        Automatic     22.0    1197   620000.0       6.0\n",
       "7962           Manual     19.0    1461   890000.0       6.0\n",
       "7963        Automatic     17.0    1198   801000.0       6.0\n",
       "7964        Automatic     16.0    1968  1657500.0       7.0\n",
       "7965        Automatic     21.0    1995  1657500.0       5.0\n",
       "\n",
       "[7966 rows x 5 columns]"
      ]
     },
     "execution_count": 45,
     "metadata": {},
     "output_type": "execute_result"
    }
   ],
   "source": [
    "df_model = df_filtered.copy()\n",
    "\n",
    "df_model.drop(labels=['FuelType', 'City', 'CarModel', 'VariantName', 'BodyType', 'ModelYear',\n",
    "                      'Insurance', 'Manufacturer', 'NumberOwner', 'Seats', 'No of Cylinder', 'KmsDriven'\n",
    "                      ], axis=1, inplace=True)\n",
    "\n",
    "df_model"
   ]
  },
  {
   "cell_type": "code",
   "execution_count": 46,
   "metadata": {},
   "outputs": [
    {
     "data": {
      "text/html": [
       "<div>\n",
       "<style scoped>\n",
       "    .dataframe tbody tr th:only-of-type {\n",
       "        vertical-align: middle;\n",
       "    }\n",
       "\n",
       "    .dataframe tbody tr th {\n",
       "        vertical-align: top;\n",
       "    }\n",
       "\n",
       "    .dataframe thead th {\n",
       "        text-align: right;\n",
       "    }\n",
       "</style>\n",
       "<table border=\"1\" class=\"dataframe\">\n",
       "  <thead>\n",
       "    <tr style=\"text-align: right;\">\n",
       "      <th></th>\n",
       "      <th>Mileage</th>\n",
       "      <th>Engine</th>\n",
       "      <th>Price</th>\n",
       "      <th>AgeOfCar</th>\n",
       "      <th>TransmissionType_Automatic</th>\n",
       "      <th>TransmissionType_Manual</th>\n",
       "    </tr>\n",
       "  </thead>\n",
       "  <tbody>\n",
       "    <tr>\n",
       "      <th>0</th>\n",
       "      <td>23.0</td>\n",
       "      <td>998</td>\n",
       "      <td>400000.0</td>\n",
       "      <td>9.0</td>\n",
       "      <td>0.0</td>\n",
       "      <td>1.0</td>\n",
       "    </tr>\n",
       "    <tr>\n",
       "      <th>1</th>\n",
       "      <td>17.0</td>\n",
       "      <td>1497</td>\n",
       "      <td>811000.0</td>\n",
       "      <td>6.0</td>\n",
       "      <td>0.0</td>\n",
       "      <td>1.0</td>\n",
       "    </tr>\n",
       "    <tr>\n",
       "      <th>2</th>\n",
       "      <td>23.0</td>\n",
       "      <td>1199</td>\n",
       "      <td>585000.0</td>\n",
       "      <td>6.0</td>\n",
       "      <td>0.0</td>\n",
       "      <td>1.0</td>\n",
       "    </tr>\n",
       "    <tr>\n",
       "      <th>3</th>\n",
       "      <td>19.0</td>\n",
       "      <td>1197</td>\n",
       "      <td>462000.0</td>\n",
       "      <td>10.0</td>\n",
       "      <td>0.0</td>\n",
       "      <td>1.0</td>\n",
       "    </tr>\n",
       "    <tr>\n",
       "      <th>4</th>\n",
       "      <td>23.0</td>\n",
       "      <td>1248</td>\n",
       "      <td>790000.0</td>\n",
       "      <td>9.0</td>\n",
       "      <td>0.0</td>\n",
       "      <td>1.0</td>\n",
       "    </tr>\n",
       "    <tr>\n",
       "      <th>...</th>\n",
       "      <td>...</td>\n",
       "      <td>...</td>\n",
       "      <td>...</td>\n",
       "      <td>...</td>\n",
       "      <td>...</td>\n",
       "      <td>...</td>\n",
       "    </tr>\n",
       "    <tr>\n",
       "      <th>7961</th>\n",
       "      <td>22.0</td>\n",
       "      <td>1197</td>\n",
       "      <td>620000.0</td>\n",
       "      <td>6.0</td>\n",
       "      <td>1.0</td>\n",
       "      <td>0.0</td>\n",
       "    </tr>\n",
       "    <tr>\n",
       "      <th>7962</th>\n",
       "      <td>19.0</td>\n",
       "      <td>1461</td>\n",
       "      <td>890000.0</td>\n",
       "      <td>6.0</td>\n",
       "      <td>0.0</td>\n",
       "      <td>1.0</td>\n",
       "    </tr>\n",
       "    <tr>\n",
       "      <th>7963</th>\n",
       "      <td>17.0</td>\n",
       "      <td>1198</td>\n",
       "      <td>801000.0</td>\n",
       "      <td>6.0</td>\n",
       "      <td>1.0</td>\n",
       "      <td>0.0</td>\n",
       "    </tr>\n",
       "    <tr>\n",
       "      <th>7964</th>\n",
       "      <td>16.0</td>\n",
       "      <td>1968</td>\n",
       "      <td>1657500.0</td>\n",
       "      <td>7.0</td>\n",
       "      <td>1.0</td>\n",
       "      <td>0.0</td>\n",
       "    </tr>\n",
       "    <tr>\n",
       "      <th>7965</th>\n",
       "      <td>21.0</td>\n",
       "      <td>1995</td>\n",
       "      <td>1657500.0</td>\n",
       "      <td>5.0</td>\n",
       "      <td>1.0</td>\n",
       "      <td>0.0</td>\n",
       "    </tr>\n",
       "  </tbody>\n",
       "</table>\n",
       "<p>7966 rows × 6 columns</p>\n",
       "</div>"
      ],
      "text/plain": [
       "      Mileage  Engine      Price  AgeOfCar  TransmissionType_Automatic  \\\n",
       "0        23.0     998   400000.0       9.0                         0.0   \n",
       "1        17.0    1497   811000.0       6.0                         0.0   \n",
       "2        23.0    1199   585000.0       6.0                         0.0   \n",
       "3        19.0    1197   462000.0      10.0                         0.0   \n",
       "4        23.0    1248   790000.0       9.0                         0.0   \n",
       "...       ...     ...        ...       ...                         ...   \n",
       "7961     22.0    1197   620000.0       6.0                         1.0   \n",
       "7962     19.0    1461   890000.0       6.0                         0.0   \n",
       "7963     17.0    1198   801000.0       6.0                         1.0   \n",
       "7964     16.0    1968  1657500.0       7.0                         1.0   \n",
       "7965     21.0    1995  1657500.0       5.0                         1.0   \n",
       "\n",
       "      TransmissionType_Manual  \n",
       "0                         1.0  \n",
       "1                         1.0  \n",
       "2                         1.0  \n",
       "3                         1.0  \n",
       "4                         1.0  \n",
       "...                       ...  \n",
       "7961                      0.0  \n",
       "7962                      1.0  \n",
       "7963                      0.0  \n",
       "7964                      0.0  \n",
       "7965                      0.0  \n",
       "\n",
       "[7966 rows x 6 columns]"
      ]
     },
     "execution_count": 46,
     "metadata": {},
     "output_type": "execute_result"
    }
   ],
   "source": [
    "df_model=pd.get_dummies(df_model,dtype=float)\n",
    "df_model"
   ]
  },
  {
   "cell_type": "code",
   "execution_count": 47,
   "metadata": {},
   "outputs": [
    {
     "name": "stdout",
     "output_type": "stream",
     "text": [
      "<class 'pandas.core.frame.DataFrame'>\n",
      "RangeIndex: 7966 entries, 0 to 7965\n",
      "Data columns (total 6 columns):\n",
      " #   Column                      Non-Null Count  Dtype  \n",
      "---  ------                      --------------  -----  \n",
      " 0   Mileage                     7966 non-null   float64\n",
      " 1   Engine                      7966 non-null   int64  \n",
      " 2   Price                       7966 non-null   float64\n",
      " 3   AgeOfCar                    7966 non-null   float64\n",
      " 4   TransmissionType_Automatic  7966 non-null   float64\n",
      " 5   TransmissionType_Manual     7966 non-null   float64\n",
      "dtypes: float64(5), int64(1)\n",
      "memory usage: 373.5 KB\n"
     ]
    }
   ],
   "source": [
    "df_model.info()"
   ]
  },
  {
   "cell_type": "markdown",
   "metadata": {},
   "source": [
    "## Creating Feature Matrix (Independent Variables) & Target Variable (Dependent Variable)"
   ]
  },
  {
   "cell_type": "code",
   "execution_count": 48,
   "metadata": {},
   "outputs": [],
   "source": [
    "X = df_model.drop('Price',axis=1)      # Feature Matrix\n",
    "y = df_model['Price']    # Target Variable"
   ]
  },
  {
   "cell_type": "markdown",
   "metadata": {},
   "source": [
    "## Checking for important features"
   ]
  },
  {
   "cell_type": "code",
   "execution_count": 49,
   "metadata": {},
   "outputs": [
    {
     "name": "stdout",
     "output_type": "stream",
     "text": [
      "ExtraTreesRegressor()\n"
     ]
    }
   ],
   "source": [
    "from sklearn.ensemble import ExtraTreesRegressor\n",
    "\n",
    "model = ExtraTreesRegressor()\n",
    "\n",
    "print(model.fit(X,y))"
   ]
  },
  {
   "cell_type": "code",
   "execution_count": 50,
   "metadata": {},
   "outputs": [
    {
     "name": "stdout",
     "output_type": "stream",
     "text": [
      "--------------------------------------------------\n",
      "Checking for feature importance\n",
      "--------------------------------------------------\n",
      "[0.10937763 0.35137381 0.26171648 0.1739948  0.10353728]\n"
     ]
    }
   ],
   "source": [
    "print('-'*50)\n",
    "print('Checking for feature importance')\n",
    "print('-'*50)\n",
    "\n",
    "print(model.feature_importances_)"
   ]
  },
  {
   "cell_type": "markdown",
   "metadata": {},
   "source": [
    "### Visulization for feature importance"
   ]
  },
  {
   "cell_type": "code",
   "execution_count": 51,
   "metadata": {},
   "outputs": [
    {
     "data": {
      "image/png": "[encoded data removed]",
      "text/plain": [
       "<Figure size 640x480 with 1 Axes>"
      ]
     },
     "metadata": {},
     "output_type": "display_data"
    }
   ],
   "source": [
    "imp_feature = pd.Series(model.feature_importances_, index = X.columns)\n",
    "imp_feature.nlargest(10).plot(kind = 'barh', color='blue')\n",
    "plt.title('Important Features', fontsize=16)\n",
    "plt.show()"
   ]
  },
  {
   "cell_type": "markdown",
   "metadata": {},
   "source": [
    "# Model Building & Evaluation"
   ]
  },
  {
   "cell_type": "markdown",
   "metadata": {},
   "source": [
    "#### Train-Test Split"
   ]
  },
  {
   "cell_type": "code",
   "execution_count": 52,
   "metadata": {},
   "outputs": [],
   "source": [
    "from sklearn.model_selection import train_test_split\n",
    "\n",
    "X_train, X_test, y_train, y_test = train_test_split(X, y, test_size=0.2)"
   ]
  },
  {
   "cell_type": "markdown",
   "metadata": {},
   "source": [
    "#### Importing important libraries for Model Building"
   ]
  },
  {
   "cell_type": "code",
   "execution_count": 53,
   "metadata": {},
   "outputs": [],
   "source": [
    "from sklearn.model_selection import train_test_split, RandomizedSearchCV\n",
    "from sklearn.linear_model import LinearRegression, Ridge, Lasso\n",
    "from sklearn.svm import SVR\n",
    "from sklearn.tree import DecisionTreeRegressor\n",
    "from sklearn.ensemble import ExtraTreesRegressor, RandomForestRegressor\n",
    "from sklearn.metrics import mean_absolute_error, mean_squared_error, explained_variance_score, r2_score"
   ]
  },
  {
   "cell_type": "code",
   "execution_count": 54,
   "metadata": {},
   "outputs": [],
   "source": [
    "models = [ LinearRegression, SVR, DecisionTreeRegressor, RandomForestRegressor, Ridge, Lasso]\n",
    "mse = []\n",
    "rmse = []\n",
    "evs = []\n",
    "r_square_score = []\n",
    "\n",
    "for model in models:\n",
    "    regressor = model().fit(X_train, y_train)\n",
    "    pred = regressor.predict(X_test)\n",
    "    mse.append(mean_squared_error(y_true= y_test, y_pred= pred))\n",
    "    rmse.append(np.sqrt(mean_squared_error(y_true= y_test, y_pred= pred)))\n",
    "    evs.append(explained_variance_score(y_true= y_test, y_pred= pred))\n",
    "    r_square_score.append(r2_score(y_true= y_test, y_pred= pred))"
   ]
  },
  {
   "cell_type": "markdown",
   "metadata": {},
   "source": [
    "## Creating DataFrame for Model Comparison"
   ]
  },
  {
   "cell_type": "code",
   "execution_count": 55,
   "metadata": {},
   "outputs": [
    {
     "data": {
      "text/html": [
       "<div>\n",
       "<style scoped>\n",
       "    .dataframe tbody tr th:only-of-type {\n",
       "        vertical-align: middle;\n",
       "    }\n",
       "\n",
       "    .dataframe tbody tr th {\n",
       "        vertical-align: top;\n",
       "    }\n",
       "\n",
       "    .dataframe thead th {\n",
       "        text-align: right;\n",
       "    }\n",
       "</style>\n",
       "<table border=\"1\" class=\"dataframe\">\n",
       "  <thead>\n",
       "    <tr style=\"text-align: right;\">\n",
       "      <th></th>\n",
       "      <th>Mean Squarred Error</th>\n",
       "      <th>Root Mean Squarred Error</th>\n",
       "      <th>Explained Variance Score</th>\n",
       "      <th>R-Sqaure Score(Accuracy)</th>\n",
       "    </tr>\n",
       "    <tr>\n",
       "      <th>Model</th>\n",
       "      <th></th>\n",
       "      <th></th>\n",
       "      <th></th>\n",
       "      <th></th>\n",
       "    </tr>\n",
       "  </thead>\n",
       "  <tbody>\n",
       "    <tr>\n",
       "      <th>Linear Regression</th>\n",
       "      <td>4.772211e+10</td>\n",
       "      <td>218453.915409</td>\n",
       "      <td>0.761764</td>\n",
       "      <td>0.761739</td>\n",
       "    </tr>\n",
       "    <tr>\n",
       "      <th>Support Vector Rregression</th>\n",
       "      <td>2.193568e+11</td>\n",
       "      <td>468355.444376</td>\n",
       "      <td>0.000949</td>\n",
       "      <td>-0.095177</td>\n",
       "    </tr>\n",
       "    <tr>\n",
       "      <th>Decision Tree Regressor</th>\n",
       "      <td>2.292154e+10</td>\n",
       "      <td>151398.611716</td>\n",
       "      <td>0.885581</td>\n",
       "      <td>0.885560</td>\n",
       "    </tr>\n",
       "    <tr>\n",
       "      <th>Random Forest Regressor</th>\n",
       "      <td>1.858462e+10</td>\n",
       "      <td>136325.429905</td>\n",
       "      <td>0.907240</td>\n",
       "      <td>0.907213</td>\n",
       "    </tr>\n",
       "    <tr>\n",
       "      <th>Ridge</th>\n",
       "      <td>4.772153e+10</td>\n",
       "      <td>218452.578276</td>\n",
       "      <td>0.761766</td>\n",
       "      <td>0.761742</td>\n",
       "    </tr>\n",
       "    <tr>\n",
       "      <th>Lasso</th>\n",
       "      <td>4.772208e+10</td>\n",
       "      <td>218453.846109</td>\n",
       "      <td>0.761764</td>\n",
       "      <td>0.761739</td>\n",
       "    </tr>\n",
       "  </tbody>\n",
       "</table>\n",
       "</div>"
      ],
      "text/plain": [
       "                            Mean Squarred Error  Root Mean Squarred Error  \\\n",
       "Model                                                                       \n",
       "Linear Regression                  4.772211e+10             218453.915409   \n",
       "Support Vector Rregression         2.193568e+11             468355.444376   \n",
       "Decision Tree Regressor            2.292154e+10             151398.611716   \n",
       "Random Forest Regressor            1.858462e+10             136325.429905   \n",
       "Ridge                              4.772153e+10             218452.578276   \n",
       "Lasso                              4.772208e+10             218453.846109   \n",
       "\n",
       "                            Explained Variance Score  R-Sqaure Score(Accuracy)  \n",
       "Model                                                                           \n",
       "Linear Regression                           0.761764                  0.761739  \n",
       "Support Vector Rregression                  0.000949                 -0.095177  \n",
       "Decision Tree Regressor                     0.885581                  0.885560  \n",
       "Random Forest Regressor                     0.907240                  0.907213  \n",
       "Ridge                                       0.761766                  0.761742  \n",
       "Lasso                                       0.761764                  0.761739  "
      ]
     },
     "execution_count": 55,
     "metadata": {},
     "output_type": "execute_result"
    }
   ],
   "source": [
    "ML_model_df=pd.DataFrame({\"Model\":[ 'Linear Regression', 'Support Vector Rregression', 'Decision Tree Regressor', \\\n",
    "                                   'Random Forest Regressor', 'Ridge', 'Lasso'],\n",
    "                         \"Mean Squarred Error\":mse,\n",
    "                         \"Root Mean Squarred Error\":rmse,\n",
    "                         \"Explained Variance Score\":evs,\n",
    "                         \"R-Sqaure Score(Accuracy)\":r_square_score})\n",
    "\n",
    "ML_model_df.set_index('Model',inplace=True)\n",
    "ML_model_df"
   ]
  },
  {
   "cell_type": "code",
   "execution_count": 56,
   "metadata": {},
   "outputs": [
    {
     "name": "stdout",
     "output_type": "stream",
     "text": [
      "Fitting 2 folds for each of 16 candidates, totalling 32 fits\n"
     ]
    },
    {
     "data": {
      "text/html": [
       "<div>\n",
       "<style scoped>\n",
       "    .dataframe tbody tr th:only-of-type {\n",
       "        vertical-align: middle;\n",
       "    }\n",
       "\n",
       "    .dataframe tbody tr th {\n",
       "        vertical-align: top;\n",
       "    }\n",
       "\n",
       "    .dataframe thead th {\n",
       "        text-align: right;\n",
       "    }\n",
       "</style>\n",
       "<table border=\"1\" class=\"dataframe\">\n",
       "  <thead>\n",
       "    <tr style=\"text-align: right;\">\n",
       "      <th></th>\n",
       "      <th>Mean Squarred Error</th>\n",
       "      <th>Root Mean Squarred Error</th>\n",
       "      <th>Explained Variance Score</th>\n",
       "      <th>R-Sqaure Score(Accuracy)</th>\n",
       "    </tr>\n",
       "    <tr>\n",
       "      <th>Model</th>\n",
       "      <th></th>\n",
       "      <th></th>\n",
       "      <th></th>\n",
       "      <th></th>\n",
       "    </tr>\n",
       "  </thead>\n",
       "  <tbody>\n",
       "    <tr>\n",
       "      <th>Linear Regression</th>\n",
       "      <td>4.772211e+10</td>\n",
       "      <td>218453.915409</td>\n",
       "      <td>0.761764</td>\n",
       "      <td>0.761739</td>\n",
       "    </tr>\n",
       "    <tr>\n",
       "      <th>Support Vector Rregression</th>\n",
       "      <td>2.193568e+11</td>\n",
       "      <td>468355.444376</td>\n",
       "      <td>0.000949</td>\n",
       "      <td>-0.095177</td>\n",
       "    </tr>\n",
       "    <tr>\n",
       "      <th>Decision Tree Regressor</th>\n",
       "      <td>2.292154e+10</td>\n",
       "      <td>151398.611716</td>\n",
       "      <td>0.885581</td>\n",
       "      <td>0.885560</td>\n",
       "    </tr>\n",
       "    <tr>\n",
       "      <th>Random Forest Regressor</th>\n",
       "      <td>1.816763e+10</td>\n",
       "      <td>134787.354271</td>\n",
       "      <td>0.909346</td>\n",
       "      <td>0.909295</td>\n",
       "    </tr>\n",
       "    <tr>\n",
       "      <th>Ridge</th>\n",
       "      <td>4.772153e+10</td>\n",
       "      <td>218452.578276</td>\n",
       "      <td>0.761766</td>\n",
       "      <td>0.761742</td>\n",
       "    </tr>\n",
       "    <tr>\n",
       "      <th>Lasso</th>\n",
       "      <td>4.772208e+10</td>\n",
       "      <td>218453.846109</td>\n",
       "      <td>0.761764</td>\n",
       "      <td>0.761739</td>\n",
       "    </tr>\n",
       "  </tbody>\n",
       "</table>\n",
       "</div>"
      ],
      "text/plain": [
       "                            Mean Squarred Error  Root Mean Squarred Error  \\\n",
       "Model                                                                       \n",
       "Linear Regression                  4.772211e+10             218453.915409   \n",
       "Support Vector Rregression         2.193568e+11             468355.444376   \n",
       "Decision Tree Regressor            2.292154e+10             151398.611716   \n",
       "Random Forest Regressor            1.816763e+10             134787.354271   \n",
       "Ridge                              4.772153e+10             218452.578276   \n",
       "Lasso                              4.772208e+10             218453.846109   \n",
       "\n",
       "                            Explained Variance Score  R-Sqaure Score(Accuracy)  \n",
       "Model                                                                           \n",
       "Linear Regression                           0.761764                  0.761739  \n",
       "Support Vector Rregression                  0.000949                 -0.095177  \n",
       "Decision Tree Regressor                     0.885581                  0.885560  \n",
       "Random Forest Regressor                     0.909346                  0.909295  \n",
       "Ridge                                       0.761766                  0.761742  \n",
       "Lasso                                       0.761764                  0.761739  "
      ]
     },
     "execution_count": 56,
     "metadata": {},
     "output_type": "execute_result"
    }
   ],
   "source": [
    "# **Hyperparameter Tuning for RandomForestRegressor**\n",
    "from sklearn.ensemble import RandomForestRegressor\n",
    "\n",
    "param_grid = {\n",
    "    'n_estimators': [100, 200],  # Reduce the range\n",
    "    'max_depth': [10, 20],  # Reduce the range\n",
    "    'min_samples_split': [2, 5],\n",
    "    'min_samples_leaf': [1, 2],\n",
    "    'max_features': ['log2']\n",
    "}\n",
    "\n",
    "# Initialize RandomForest model\n",
    "rf = RandomForestRegressor()\n",
    "\n",
    "# Initialize RandomizedSearchCV for hyperparameter tuning\n",
    "random_search = RandomizedSearchCV(estimator=rf, param_distributions=param_grid, \n",
    "                                   n_iter=20, cv=2, verbose=2, n_jobs=-1, random_state=42)\n",
    "\n",
    "# Hyper_model= RandomForestRegressor(max_depth = 20 ,max_features='log2' ,min_samples_leaf=1, min_samples_split=2,n_estimators =50)\n",
    "\n",
    "# Fit the model with best parameters\n",
    "random_search.fit(X_train, y_train)\n",
    "\n",
    "# Get the best model\n",
    "best_rf = random_search.best_estimator_\n",
    "\n",
    "# Evaluate the tuned RandomForest model\n",
    "rf_pred = best_rf.predict(X_test)\n",
    "\n",
    "# Calculate metrics for the tuned model\n",
    "rf_mse = mean_squared_error(y_test, rf_pred)\n",
    "rf_rmse = np.sqrt(rf_mse)\n",
    "rf_evs = explained_variance_score(y_test, rf_pred)\n",
    "rf_r2 = r2_score(y_test, rf_pred)\n",
    "\n",
    "# Append RandomForest performance to the DataFrame\n",
    "ML_model_df.loc['Random Forest Regressor'] = [rf_mse, rf_rmse, rf_evs, rf_r2]\n",
    "ML_model_df\n"
   ]
  },
  {
   "cell_type": "markdown",
   "metadata": {},
   "source": [
    "# Selection of Best Model & Hyperparameter Tuning\n",
    "\n",
    "Random Forest Regressor > Decision Tree Regressor >Linear Regression - Ridge - Lasso\n",
    "\n",
    "In summary, the Random Forest Regressor performs best in predicting used car prices based on accuracy scores. However, model selection should consider interpretability, computational complexity and business requirements. Decision Tree Regressor is a strong alternative offering good accuracy and interpretability. Support Vector Regression may capture complex relationships but has lower accuracy. Ridge and Lasso provide simpler linear models."
   ]
  },
  {
   "cell_type": "markdown",
   "metadata": {},
   "source": [
    "# Generating Pickle File- Saving Trained Model"
   ]
  },
  {
   "cell_type": "code",
   "execution_count": 57,
   "metadata": {},
   "outputs": [],
   "source": [
    "import pickle\n",
    "\n",
    "# Save the model using pickle\n",
    "model_filename = 'random_forest_model.pkl'\n",
    "with open(model_filename, 'wb') as file:\n",
    "    pickle.dump(best_rf, file)"
   ]
  },
  {
   "cell_type": "code",
   "execution_count": 63,
   "metadata": {},
   "outputs": [
    {
     "name": "stdout",
     "output_type": "stream",
     "text": [
      "Predicted Price: 137149.67810661567\n"
     ]
    }
   ],
   "source": [
    "# Assume you've already loaded the model\n",
    "with open(model_filename, 'rb') as file:\n",
    "    loaded_rf_model = pickle.load(file)\n",
    "\n",
    "# Example: Create a new data point for prediction\n",
    "# Replace the values below with the actual features for which you want to predict the price\n",
    "new_data = {\n",
    "    'Mileage' : 20, \n",
    "    'Engine' : 998, \n",
    "    'AgeOfCar' : 25,\n",
    "    'TransmissionType_Automatic' : 0, \n",
    "    'TransmissionType_Manual' : 1\n",
    "}\n",
    "\n",
    "# Convert the new data point into a DataFrame (like how X_train was structured)\n",
    "new_data_df = pd.DataFrame([new_data])\n",
    "\n",
    "# Make sure to perform the same preprocessing steps as your training data\n",
    "# For example: encoding categorical variables, scaling, feature engineering, etc.\n",
    "# new_data_df = your_preprocessing_function(new_data_df)\n",
    "\n",
    "# Use the loaded model to predict the price\n",
    "predicted_price = loaded_rf_model.predict(new_data_df)\n",
    "\n",
    "print(f\"Predicted Price: {predicted_price[0]}\")"
   ]
  },
  {
   "cell_type": "code",
   "execution_count": null,
   "metadata": {},
   "outputs": [],
   "source": []
  }
 ],
 "metadata": {
  "kernelspec": {
   "display_name": "Python 3",
   "language": "python",
   "name": "python3"
  },
  "language_info": {
   "codemirror_mode": {
    "name": "ipython",
    "version": 3
   },
   "file_extension": ".py",
   "mimetype": "text/x-python",
   "name": "python",
   "nbconvert_exporter": "python",
   "pygments_lexer": "ipython3",
   "version": "3.11.4"
  }
 },
 "nbformat": 4,
 "nbformat_minor": 2
}
